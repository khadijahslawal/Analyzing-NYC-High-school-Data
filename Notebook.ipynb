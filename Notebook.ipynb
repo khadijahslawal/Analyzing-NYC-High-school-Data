{
 "cells": [
  {
   "cell_type": "markdown",
   "metadata": {},
   "source": [
    "# PROJECT: ANALYZING NYC HIGH SCHOOL DATA"
   ]
  },
  {
   "cell_type": "markdown",
   "metadata": {},
   "source": [
    "The SAT (Scholastic Aptitude Test) is a standardized test high school seniors in the United States take every year, which serves as an assessment and decision aid by colleges for admissions. \n",
    "\n",
    "The SAT is comprised of three sections, amounting to a total maximum score of 2400 points. \n",
    "\n",
    "Being one of the most significant factor during college admissions, the effectiveness and fairness of the SATs has come under scrutiny by many stakeholders and beyond, on the unfair advantage it offers to students with more priviledged backgrounds.\n",
    "\n",
    "New York City, constitutes of a very diverse immigrant population with different demographic factors specifically nationality, race and gender. \n",
    "\n",
    "\n",
    "The aim of this project is to analyze the data on the SAT scores of High school students across New York City from the [NYC Open Data](https://data.cityofnewyork.us/Education/2012-SAT-Results/f9bf-2cp4), along with additional data sets, including [Attendance](https://data.cityofnewyork.us/Education/2010-2011-School-Attendance-and-Enrollment-Statist/7z8d-msnt), [Class size](https://data.cityofnewyork.us/Education/2010-2011-Class-Size-School-level-detail/urz7-pzb3), [AP test results](https://data.cityofnewyork.us/Education/2010-AP-College-Board-School-Level-Results/itfs-ms3e),[Graduation Outcomes](https://data.cityofnewyork.us/Education/2005-2010-Graduation-Outcomes-School-Level/vh2h-md7a) [Demograhics](https://data.cityofnewyork.us/Education/2006-2012-School-Demographics-and-Accountability-S/ihfw-zy9j),  [School Survey](https://data.cityofnewyork.us/Education/2011-NYC-School-Survey/mnz3-dyi8) to determine the fairness of the SAT tests."
   ]
  },
  {
   "cell_type": "markdown",
   "metadata": {},
   "source": [
    "# 1.  PREPARING THE DATA.\n",
    "\n",
    "** The following steps will focus on preparing the data, including reading the data into the appropriate data structures, adding the DBN Columns (unique identifier for high schools), converting values to numeric and condensing the data **"
   ]
  },
  {
   "cell_type": "markdown",
   "metadata": {},
   "source": [
    "# Read in the data"
   ]
  },
  {
   "cell_type": "code",
   "execution_count": 1,
   "metadata": {
    "collapsed": true
   },
   "outputs": [],
   "source": [
    "import pandas as pd\n",
    "import numpy\n",
    "import re\n",
    "\n",
    "data_files = [\n",
    "    \"ap_2010.csv\",\n",
    "    \"class_size.csv\",\n",
    "    \"demographics.csv\",\n",
    "    \"graduation.csv\",\n",
    "    \"hs_directory.csv\",\n",
    "    \"sat_results.csv\"\n",
    "]\n",
    "\n",
    "data = {}\n",
    "\n",
    "for f in data_files:\n",
    "    d = pd.read_csv(\"schools/{0}\".format(f))\n",
    "    data[f.replace(\".csv\", \"\")] = d"
   ]
  },
  {
   "cell_type": "markdown",
   "metadata": {},
   "source": [
    "# Read in the surveys"
   ]
  },
  {
   "cell_type": "code",
   "execution_count": 2,
   "metadata": {
    "collapsed": false
   },
   "outputs": [],
   "source": [
    "all_survey = pd.read_csv(\"schools/survey_all.txt\", delimiter=\"\\t\", encoding='windows-1252')\n",
    "d75_survey = pd.read_csv(\"schools/survey_d75.txt\", delimiter=\"\\t\", encoding='windows-1252')\n",
    "survey = pd.concat([all_survey, d75_survey], axis=0)\n",
    "\n",
    "survey[\"DBN\"] = survey[\"dbn\"]\n",
    "\n",
    "survey_fields = [\n",
    "    \"DBN\", \n",
    "    \"rr_s\", \n",
    "    \"rr_t\", \n",
    "    \"rr_p\", \n",
    "    \"N_s\", \n",
    "    \"N_t\", \n",
    "    \"N_p\", \n",
    "    \"saf_p_11\", \n",
    "    \"com_p_11\", \n",
    "    \"eng_p_11\", \n",
    "    \"aca_p_11\", \n",
    "    \"saf_t_11\", \n",
    "    \"com_t_11\", \n",
    "    \"eng_t_11\", \n",
    "    \"aca_t_11\", \n",
    "    \"saf_s_11\", \n",
    "    \"com_s_11\", \n",
    "    \"eng_s_11\", \n",
    "    \"aca_s_11\", \n",
    "    \"saf_tot_11\", \n",
    "    \"com_tot_11\", \n",
    "    \"eng_tot_11\", \n",
    "    \"aca_tot_11\",\n",
    "]\n",
    "survey = survey.loc[:,survey_fields]\n",
    "data[\"survey\"] = survey"
   ]
  },
  {
   "cell_type": "markdown",
   "metadata": {},
   "source": [
    "#  Add DBN columns"
   ]
  },
  {
   "cell_type": "code",
   "execution_count": 3,
   "metadata": {
    "collapsed": true
   },
   "outputs": [],
   "source": [
    "data[\"hs_directory\"][\"DBN\"] = data[\"hs_directory\"][\"dbn\"]\n",
    "\n",
    "def pad_csd(num):\n",
    "    string_representation = str(num)\n",
    "    if len(string_representation) > 1:\n",
    "        return string_representation\n",
    "    else:\n",
    "        return \"0\" + string_representation\n",
    "    \n",
    "data[\"class_size\"][\"padded_csd\"] = data[\"class_size\"][\"CSD\"].apply(pad_csd)\n",
    "data[\"class_size\"][\"DBN\"] = data[\"class_size\"][\"padded_csd\"] + data[\"class_size\"][\"SCHOOL CODE\"]"
   ]
  },
  {
   "cell_type": "markdown",
   "metadata": {},
   "source": [
    "# Convert columns to numeric"
   ]
  },
  {
   "cell_type": "code",
   "execution_count": 4,
   "metadata": {
    "collapsed": true
   },
   "outputs": [],
   "source": [
    "cols = ['SAT Math Avg. Score', 'SAT Critical Reading Avg. Score', 'SAT Writing Avg. Score']\n",
    "for c in cols:\n",
    "    data[\"sat_results\"][c] = pd.to_numeric(data[\"sat_results\"][c], errors=\"coerce\")\n",
    "\n",
    "data['sat_results']['sat_score'] = data['sat_results'][cols[0]] + data['sat_results'][cols[1]] + data['sat_results'][cols[2]]\n",
    "\n",
    "def find_lat(loc):\n",
    "    coords = re.findall(\"\\(.+, .+\\)\", loc)\n",
    "    lat = coords[0].split(\",\")[0].replace(\"(\", \"\")\n",
    "    return lat\n",
    "\n",
    "def find_lon(loc):\n",
    "    coords = re.findall(\"\\(.+, .+\\)\", loc)\n",
    "    lon = coords[0].split(\",\")[1].replace(\")\", \"\").strip()\n",
    "    return lon\n",
    "\n",
    "data[\"hs_directory\"][\"lat\"] = data[\"hs_directory\"][\"Location 1\"].apply(find_lat)\n",
    "data[\"hs_directory\"][\"lon\"] = data[\"hs_directory\"][\"Location 1\"].apply(find_lon)\n",
    "\n",
    "data[\"hs_directory\"][\"lat\"] = pd.to_numeric(data[\"hs_directory\"][\"lat\"], errors=\"coerce\")\n",
    "data[\"hs_directory\"][\"lon\"] = pd.to_numeric(data[\"hs_directory\"][\"lon\"], errors=\"coerce\")"
   ]
  },
  {
   "cell_type": "markdown",
   "metadata": {},
   "source": [
    "# Condense datasets"
   ]
  },
  {
   "cell_type": "code",
   "execution_count": 5,
   "metadata": {
    "collapsed": false
   },
   "outputs": [],
   "source": [
    "class_size = data[\"class_size\"]\n",
    "class_size = class_size[class_size[\"GRADE \"] == \"09-12\"]\n",
    "class_size = class_size[class_size[\"PROGRAM TYPE\"] == \"GEN ED\"]\n",
    "\n",
    "class_size = class_size.groupby(\"DBN\").agg(numpy.mean)\n",
    "class_size.reset_index(inplace=True)\n",
    "data[\"class_size\"] = class_size\n",
    "\n",
    "data[\"demographics\"] = data[\"demographics\"][data[\"demographics\"][\"schoolyear\"] == 20112012]\n",
    "\n",
    "data[\"graduation\"] = data[\"graduation\"][data[\"graduation\"][\"Cohort\"] == \"2006\"]\n",
    "data[\"graduation\"] = data[\"graduation\"][data[\"graduation\"][\"Demographic\"] == \"Total Cohort\"]"
   ]
  },
  {
   "cell_type": "markdown",
   "metadata": {},
   "source": [
    "# Convert AP scores to numeric"
   ]
  },
  {
   "cell_type": "code",
   "execution_count": 6,
   "metadata": {
    "collapsed": true
   },
   "outputs": [],
   "source": [
    "cols = ['AP Test Takers ', 'Total Exams Taken', 'Number of Exams with scores 3 4 or 5']\n",
    "\n",
    "for col in cols:\n",
    "    data[\"ap_2010\"][col] = pd.to_numeric(data[\"ap_2010\"][col], errors=\"coerce\")"
   ]
  },
  {
   "cell_type": "markdown",
   "metadata": {},
   "source": [
    "# Combine the datasets"
   ]
  },
  {
   "cell_type": "code",
   "execution_count": 7,
   "metadata": {
    "collapsed": true
   },
   "outputs": [],
   "source": [
    "combined = data[\"sat_results\"]\n",
    "\n",
    "combined = combined.merge(data[\"ap_2010\"], on=\"DBN\", how=\"left\")\n",
    "combined = combined.merge(data[\"graduation\"], on=\"DBN\", how=\"left\")\n",
    "\n",
    "to_merge = [\"class_size\", \"demographics\", \"survey\", \"hs_directory\"]\n",
    "\n",
    "for m in to_merge:\n",
    "    combined = combined.merge(data[m], on=\"DBN\", how=\"inner\")\n",
    "\n",
    "combined = combined.fillna(combined.mean())\n",
    "combined = combined.fillna(0)"
   ]
  },
  {
   "cell_type": "markdown",
   "metadata": {},
   "source": [
    "# Add a school district column for mapping"
   ]
  },
  {
   "cell_type": "code",
   "execution_count": 8,
   "metadata": {
    "collapsed": true
   },
   "outputs": [],
   "source": [
    "def get_first_two_chars(dbn):\n",
    "    return dbn[0:2]\n",
    "\n",
    "combined[\"school_dist\"] = combined[\"DBN\"].apply(get_first_two_chars)"
   ]
  },
  {
   "cell_type": "markdown",
   "metadata": {},
   "source": [
    "# Find correlations"
   ]
  },
  {
   "cell_type": "markdown",
   "metadata": {},
   "source": [
    "Correlations inform us of how closely related variables are. The Pearson's correlation coefficient which measures the linear correlation between two variables will be used to determine what features in the data sets strongly or weakly correlate with the SAT Score. The r value ranges from -1 to +1, where correlations closer to -1 indicate a strong negative correlation, +1 indicates a strong positive correlation and correlations close to 0 indicates a weak correlation."
   ]
  },
  {
   "cell_type": "code",
   "execution_count": 9,
   "metadata": {
    "collapsed": false
   },
   "outputs": [
    {
     "name": "stdout",
     "output_type": "stream",
     "text": [
      "SAT Critical Reading Avg. Score         0.986820\n",
      "SAT Math Avg. Score                     0.972643\n",
      "SAT Writing Avg. Score                  0.987771\n",
      "sat_score                               1.000000\n",
      "AP Test Takers                          0.523140\n",
      "Total Exams Taken                       0.514333\n",
      "Number of Exams with scores 3 4 or 5    0.463245\n",
      "Total Cohort                            0.325144\n",
      "CSD                                     0.042948\n",
      "NUMBER OF STUDENTS / SEATS FILLED       0.394626\n",
      "NUMBER OF SECTIONS                      0.362673\n",
      "AVERAGE CLASS SIZE                      0.381014\n",
      "SIZE OF SMALLEST CLASS                  0.249949\n",
      "SIZE OF LARGEST CLASS                   0.314434\n",
      "SCHOOLWIDE PUPIL-TEACHER RATIO               NaN\n",
      "schoolyear                                   NaN\n",
      "fl_percent                                   NaN\n",
      "frl_percent                            -0.722225\n",
      "total_enrollment                        0.367857\n",
      "ell_num                                -0.153778\n",
      "ell_percent                            -0.398750\n",
      "sped_num                                0.034933\n",
      "sped_percent                           -0.448170\n",
      "asian_num                               0.475445\n",
      "asian_per                               0.570730\n",
      "black_num                               0.027979\n",
      "black_per                              -0.284139\n",
      "hispanic_num                            0.025744\n",
      "hispanic_per                           -0.396985\n",
      "white_num                               0.449559\n",
      "                                          ...   \n",
      "rr_p                                    0.047925\n",
      "N_s                                     0.423463\n",
      "N_t                                     0.291463\n",
      "N_p                                     0.421530\n",
      "saf_p_11                                0.122913\n",
      "com_p_11                               -0.115073\n",
      "eng_p_11                                0.020254\n",
      "aca_p_11                                0.035155\n",
      "saf_t_11                                0.313810\n",
      "com_t_11                                0.082419\n",
      "eng_t_11                                0.036906\n",
      "aca_t_11                                0.132348\n",
      "saf_s_11                                0.337639\n",
      "com_s_11                                0.187370\n",
      "eng_s_11                                0.213822\n",
      "aca_s_11                                0.339435\n",
      "saf_tot_11                              0.318753\n",
      "com_tot_11                              0.077310\n",
      "eng_tot_11                              0.100102\n",
      "aca_tot_11                              0.190966\n",
      "grade_span_max                               NaN\n",
      "expgrade_span_max                            NaN\n",
      "zip                                    -0.063977\n",
      "total_students                          0.407827\n",
      "number_programs                         0.117012\n",
      "priority08                                   NaN\n",
      "priority09                                   NaN\n",
      "priority10                                   NaN\n",
      "lat                                    -0.121029\n",
      "lon                                    -0.132222\n",
      "Name: sat_score, Length: 67, dtype: float64\n"
     ]
    }
   ],
   "source": [
    "correlations = combined.corr()\n",
    "correlations = correlations[\"sat_score\"]\n",
    "print(correlations)"
   ]
  },
  {
   "cell_type": "markdown",
   "metadata": {},
   "source": [
    "The above results computed the correlations between the SAT Score and all features in the combined datasets. With a quick glance, we can see that features such as the SAT Writing, Math and Reading Scores strongly correlate with the SAT Score. Similalry AP tests does have a positive correlation, which may indicate that students who take the AP Exam are more likely to do well in the SATS. On the contrary, features such as fr_1 percent have a negative correlation.\n",
    "\n",
    "However, due to the large amount of features we are unable to extract valuable information on the correlations. Thus, the next sections will focus on plotting the correlations to the SAT Score  for each dataset."
   ]
  },
  {
   "cell_type": "markdown",
   "metadata": {},
   "source": [
    "# Plotting survey correlations"
   ]
  },
  {
   "cell_type": "code",
   "execution_count": 10,
   "metadata": {
    "collapsed": true
   },
   "outputs": [],
   "source": [
    "# Remove DBN since it's a unique identifier, not a useful numerical value for correlation.\n",
    "survey_fields.remove(\"DBN\")"
   ]
  },
  {
   "cell_type": "code",
   "execution_count": 11,
   "metadata": {
    "collapsed": false
   },
   "outputs": [
    {
     "data": {
      "text/plain": [
       "<matplotlib.axes._subplots.AxesSubplot at 0x7f46712714e0>"
      ]
     },
     "execution_count": 11,
     "metadata": {},
     "output_type": "execute_result"
    },
    {
     "data": {
      "image/png": "[encoded data removed]",
      "text/plain": [
       "<matplotlib.figure.Figure at 0x7f46712719b0>"
      ]
     },
     "metadata": {},
     "output_type": "display_data"
    }
   ],
   "source": [
    "%matplotlib inline\n",
    "combined.corr()[\"sat_score\"][survey_fields].plot.bar()"
   ]
  },
  {
   "cell_type": "markdown",
   "metadata": {},
   "source": [
    "N_s, N_t, N_p which stands for Number of students repsondents, Number of teachers respondents, and Number of parents resposedents indicate a positive correlation. \n",
    "\n",
    "the aca_s_11 column which represents the Academic expectation score based on students repsonse, has a positive correlation withe the SAT Score. This may indicate that how student percieve the academic standards of their school correlates with their SAT Score.\n",
    "\n",
    "Additionally, two interesting columns saf_t_11 and saf_s_11 which measures how teachers and students percieve the level of safety at school had a high postive correlation with sat_score. This could mean schools with higher level of safety in the school, performed better at the SAT exams, while schools where students and teachers feel less safe, performed less.\n",
    "\n",
    "The next section focuses on understanding if safety is a contributing factor to performance in the SAT."
   ]
  },
  {
   "cell_type": "markdown",
   "metadata": {},
   "source": [
    "## Perception of School Safety and SAT Scores."
   ]
  },
  {
   "cell_type": "code",
   "execution_count": 12,
   "metadata": {
    "collapsed": false
   },
   "outputs": [
    {
     "data": {
      "image/png": "[encoded data removed]",
      "text/plain": [
       "<matplotlib.figure.Figure at 0x7f46719f8be0>"
      ]
     },
     "metadata": {},
     "output_type": "display_data"
    }
   ],
   "source": [
    "import matplotlib.pyplot as plt\n",
    "plt.scatter(x=combined[\"saf_s_11\"], y=combined[\"sat_score\"])\n",
    "plt.xlabel(\"School Safety Scores\")\n",
    "plt.ylabel(\"SAT Scores\")\n",
    "plt.title(\"School Safety Scores correlation with SAT Scores\")\n",
    "plt.show()"
   ]
  },
  {
   "cell_type": "markdown",
   "metadata": {},
   "source": [
    "The scatter plot above maps a correlation between the SAT Score and the Safety Scores reported from students. Overall, there is a positive linear relationship, but the correlation is not very strong, with a large cluster around the safety score 5 to 7. \n",
    "\n",
    "Students who percieved the level of safety within the range of 5 to 7 out of a 10, scored between 1000 to 1500 in their SATs. Additionally, safety scores between 7 to 8.5 had both high and low SAT Scores. Thus, there is not much insight earned by individually analyzing each schools safety score with their SAT Score.\n",
    "\n",
    "However, we can analyze the correlation between the safety scores of the boroughs of New York City with the average SAT Scores of the schools in each district.\n",
    "\n",
    "To explore the relationship between the safety of districts in New York City and the average SAT scores, we will map out both the safety scores and SAT Scores by district. The map will show us which areas of the city have a high SAT Score and high Safety Score or the opposite."
   ]
  },
  {
   "cell_type": "code",
   "execution_count": 13,
   "metadata": {
    "collapsed": false
   },
   "outputs": [
    {
     "data": {
      "text/html": [
       "<div>\n",
       "<style scoped>\n",
       "    .dataframe tbody tr th:only-of-type {\n",
       "        vertical-align: middle;\n",
       "    }\n",
       "\n",
       "    .dataframe tbody tr th {\n",
       "        vertical-align: top;\n",
       "    }\n",
       "\n",
       "    .dataframe thead th {\n",
       "        text-align: right;\n",
       "    }\n",
       "</style>\n",
       "<table border=\"1\" class=\"dataframe\">\n",
       "  <thead>\n",
       "    <tr style=\"text-align: right;\">\n",
       "      <th></th>\n",
       "      <th>SAT Critical Reading Avg. Score</th>\n",
       "      <th>SAT Math Avg. Score</th>\n",
       "      <th>SAT Writing Avg. Score</th>\n",
       "      <th>sat_score</th>\n",
       "      <th>AP Test Takers</th>\n",
       "      <th>Total Exams Taken</th>\n",
       "      <th>Number of Exams with scores 3 4 or 5</th>\n",
       "      <th>Total Cohort</th>\n",
       "      <th>CSD</th>\n",
       "      <th>NUMBER OF STUDENTS / SEATS FILLED</th>\n",
       "      <th>...</th>\n",
       "      <th>grade_span_max</th>\n",
       "      <th>expgrade_span_max</th>\n",
       "      <th>zip</th>\n",
       "      <th>total_students</th>\n",
       "      <th>number_programs</th>\n",
       "      <th>priority08</th>\n",
       "      <th>priority09</th>\n",
       "      <th>priority10</th>\n",
       "      <th>lat</th>\n",
       "      <th>lon</th>\n",
       "    </tr>\n",
       "    <tr>\n",
       "      <th>school_dist</th>\n",
       "      <th></th>\n",
       "      <th></th>\n",
       "      <th></th>\n",
       "      <th></th>\n",
       "      <th></th>\n",
       "      <th></th>\n",
       "      <th></th>\n",
       "      <th></th>\n",
       "      <th></th>\n",
       "      <th></th>\n",
       "      <th></th>\n",
       "      <th></th>\n",
       "      <th></th>\n",
       "      <th></th>\n",
       "      <th></th>\n",
       "      <th></th>\n",
       "      <th></th>\n",
       "      <th></th>\n",
       "      <th></th>\n",
       "      <th></th>\n",
       "      <th></th>\n",
       "    </tr>\n",
       "  </thead>\n",
       "  <tbody>\n",
       "    <tr>\n",
       "      <th>01</th>\n",
       "      <td>441.833333</td>\n",
       "      <td>473.333333</td>\n",
       "      <td>439.333333</td>\n",
       "      <td>1354.500000</td>\n",
       "      <td>116.681090</td>\n",
       "      <td>173.019231</td>\n",
       "      <td>135.800000</td>\n",
       "      <td>93.500000</td>\n",
       "      <td>1.0</td>\n",
       "      <td>115.244241</td>\n",
       "      <td>...</td>\n",
       "      <td>12.0</td>\n",
       "      <td>12.0</td>\n",
       "      <td>10003.166667</td>\n",
       "      <td>659.500000</td>\n",
       "      <td>1.333333</td>\n",
       "      <td>0.0</td>\n",
       "      <td>0.0</td>\n",
       "      <td>0.0</td>\n",
       "      <td>40.719022</td>\n",
       "      <td>-73.982377</td>\n",
       "    </tr>\n",
       "    <tr>\n",
       "      <th>02</th>\n",
       "      <td>426.619092</td>\n",
       "      <td>444.186256</td>\n",
       "      <td>424.832836</td>\n",
       "      <td>1295.638184</td>\n",
       "      <td>128.908454</td>\n",
       "      <td>201.516827</td>\n",
       "      <td>157.495833</td>\n",
       "      <td>158.647849</td>\n",
       "      <td>2.0</td>\n",
       "      <td>149.818949</td>\n",
       "      <td>...</td>\n",
       "      <td>12.0</td>\n",
       "      <td>12.0</td>\n",
       "      <td>10023.770833</td>\n",
       "      <td>621.395833</td>\n",
       "      <td>1.416667</td>\n",
       "      <td>0.0</td>\n",
       "      <td>0.0</td>\n",
       "      <td>0.0</td>\n",
       "      <td>40.739699</td>\n",
       "      <td>-73.991386</td>\n",
       "    </tr>\n",
       "    <tr>\n",
       "      <th>03</th>\n",
       "      <td>428.529851</td>\n",
       "      <td>437.997512</td>\n",
       "      <td>426.915672</td>\n",
       "      <td>1293.443035</td>\n",
       "      <td>156.183494</td>\n",
       "      <td>244.522436</td>\n",
       "      <td>193.087500</td>\n",
       "      <td>183.384409</td>\n",
       "      <td>3.0</td>\n",
       "      <td>156.005994</td>\n",
       "      <td>...</td>\n",
       "      <td>12.0</td>\n",
       "      <td>12.0</td>\n",
       "      <td>10023.750000</td>\n",
       "      <td>717.916667</td>\n",
       "      <td>2.000000</td>\n",
       "      <td>0.0</td>\n",
       "      <td>0.0</td>\n",
       "      <td>0.0</td>\n",
       "      <td>40.781574</td>\n",
       "      <td>-73.977370</td>\n",
       "    </tr>\n",
       "    <tr>\n",
       "      <th>04</th>\n",
       "      <td>402.142857</td>\n",
       "      <td>416.285714</td>\n",
       "      <td>405.714286</td>\n",
       "      <td>1224.142857</td>\n",
       "      <td>129.016484</td>\n",
       "      <td>183.879121</td>\n",
       "      <td>151.035714</td>\n",
       "      <td>113.857143</td>\n",
       "      <td>4.0</td>\n",
       "      <td>132.362265</td>\n",
       "      <td>...</td>\n",
       "      <td>12.0</td>\n",
       "      <td>12.0</td>\n",
       "      <td>10029.857143</td>\n",
       "      <td>580.857143</td>\n",
       "      <td>1.142857</td>\n",
       "      <td>0.0</td>\n",
       "      <td>0.0</td>\n",
       "      <td>0.0</td>\n",
       "      <td>40.793449</td>\n",
       "      <td>-73.943215</td>\n",
       "    </tr>\n",
       "    <tr>\n",
       "      <th>05</th>\n",
       "      <td>427.159915</td>\n",
       "      <td>438.236674</td>\n",
       "      <td>419.666098</td>\n",
       "      <td>1285.062687</td>\n",
       "      <td>85.722527</td>\n",
       "      <td>115.725275</td>\n",
       "      <td>142.464286</td>\n",
       "      <td>143.677419</td>\n",
       "      <td>5.0</td>\n",
       "      <td>120.623901</td>\n",
       "      <td>...</td>\n",
       "      <td>12.0</td>\n",
       "      <td>12.0</td>\n",
       "      <td>10030.142857</td>\n",
       "      <td>609.857143</td>\n",
       "      <td>1.142857</td>\n",
       "      <td>0.0</td>\n",
       "      <td>0.0</td>\n",
       "      <td>0.0</td>\n",
       "      <td>40.817077</td>\n",
       "      <td>-73.949251</td>\n",
       "    </tr>\n",
       "    <tr>\n",
       "      <th>06</th>\n",
       "      <td>382.011940</td>\n",
       "      <td>400.565672</td>\n",
       "      <td>382.066269</td>\n",
       "      <td>1164.643881</td>\n",
       "      <td>108.711538</td>\n",
       "      <td>159.715385</td>\n",
       "      <td>105.425000</td>\n",
       "      <td>180.848387</td>\n",
       "      <td>6.0</td>\n",
       "      <td>139.041709</td>\n",
       "      <td>...</td>\n",
       "      <td>12.0</td>\n",
       "      <td>12.0</td>\n",
       "      <td>10036.200000</td>\n",
       "      <td>628.900000</td>\n",
       "      <td>1.300000</td>\n",
       "      <td>0.0</td>\n",
       "      <td>0.0</td>\n",
       "      <td>0.0</td>\n",
       "      <td>40.848970</td>\n",
       "      <td>-73.932502</td>\n",
       "    </tr>\n",
       "    <tr>\n",
       "      <th>07</th>\n",
       "      <td>376.461538</td>\n",
       "      <td>380.461538</td>\n",
       "      <td>371.923077</td>\n",
       "      <td>1128.846154</td>\n",
       "      <td>73.703402</td>\n",
       "      <td>112.476331</td>\n",
       "      <td>105.276923</td>\n",
       "      <td>105.605459</td>\n",
       "      <td>7.0</td>\n",
       "      <td>97.597416</td>\n",
       "      <td>...</td>\n",
       "      <td>12.0</td>\n",
       "      <td>12.0</td>\n",
       "      <td>10452.692308</td>\n",
       "      <td>465.846154</td>\n",
       "      <td>1.461538</td>\n",
       "      <td>0.0</td>\n",
       "      <td>0.0</td>\n",
       "      <td>0.0</td>\n",
       "      <td>40.816815</td>\n",
       "      <td>-73.919971</td>\n",
       "    </tr>\n",
       "    <tr>\n",
       "      <th>08</th>\n",
       "      <td>386.214383</td>\n",
       "      <td>395.542741</td>\n",
       "      <td>377.908005</td>\n",
       "      <td>1159.665129</td>\n",
       "      <td>118.379371</td>\n",
       "      <td>168.020979</td>\n",
       "      <td>144.731818</td>\n",
       "      <td>215.510264</td>\n",
       "      <td>8.0</td>\n",
       "      <td>129.765099</td>\n",
       "      <td>...</td>\n",
       "      <td>12.0</td>\n",
       "      <td>12.0</td>\n",
       "      <td>10467.000000</td>\n",
       "      <td>547.636364</td>\n",
       "      <td>1.272727</td>\n",
       "      <td>0.0</td>\n",
       "      <td>0.0</td>\n",
       "      <td>0.0</td>\n",
       "      <td>40.823803</td>\n",
       "      <td>-73.866087</td>\n",
       "    </tr>\n",
       "    <tr>\n",
       "      <th>09</th>\n",
       "      <td>373.755970</td>\n",
       "      <td>383.582836</td>\n",
       "      <td>374.633134</td>\n",
       "      <td>1131.971940</td>\n",
       "      <td>71.411538</td>\n",
       "      <td>104.265385</td>\n",
       "      <td>98.470000</td>\n",
       "      <td>113.330645</td>\n",
       "      <td>9.0</td>\n",
       "      <td>100.118588</td>\n",
       "      <td>...</td>\n",
       "      <td>12.0</td>\n",
       "      <td>12.0</td>\n",
       "      <td>10456.100000</td>\n",
       "      <td>449.700000</td>\n",
       "      <td>1.150000</td>\n",
       "      <td>0.0</td>\n",
       "      <td>0.0</td>\n",
       "      <td>0.0</td>\n",
       "      <td>40.836349</td>\n",
       "      <td>-73.906240</td>\n",
       "    </tr>\n",
       "    <tr>\n",
       "      <th>10</th>\n",
       "      <td>403.363636</td>\n",
       "      <td>418.000000</td>\n",
       "      <td>400.863636</td>\n",
       "      <td>1222.227273</td>\n",
       "      <td>132.231206</td>\n",
       "      <td>226.914336</td>\n",
       "      <td>191.618182</td>\n",
       "      <td>161.318182</td>\n",
       "      <td>10.0</td>\n",
       "      <td>168.876526</td>\n",
       "      <td>...</td>\n",
       "      <td>12.0</td>\n",
       "      <td>12.0</td>\n",
       "      <td>10463.181818</td>\n",
       "      <td>757.863636</td>\n",
       "      <td>1.500000</td>\n",
       "      <td>0.0</td>\n",
       "      <td>0.0</td>\n",
       "      <td>0.0</td>\n",
       "      <td>40.870345</td>\n",
       "      <td>-73.898360</td>\n",
       "    </tr>\n",
       "    <tr>\n",
       "      <th>11</th>\n",
       "      <td>389.866667</td>\n",
       "      <td>394.533333</td>\n",
       "      <td>380.600000</td>\n",
       "      <td>1165.000000</td>\n",
       "      <td>83.813462</td>\n",
       "      <td>122.484615</td>\n",
       "      <td>108.833333</td>\n",
       "      <td>122.866667</td>\n",
       "      <td>11.0</td>\n",
       "      <td>129.031031</td>\n",
       "      <td>...</td>\n",
       "      <td>12.0</td>\n",
       "      <td>12.0</td>\n",
       "      <td>10467.933333</td>\n",
       "      <td>563.666667</td>\n",
       "      <td>1.533333</td>\n",
       "      <td>0.0</td>\n",
       "      <td>0.0</td>\n",
       "      <td>0.0</td>\n",
       "      <td>40.873138</td>\n",
       "      <td>-73.856120</td>\n",
       "    </tr>\n",
       "    <tr>\n",
       "      <th>12</th>\n",
       "      <td>364.769900</td>\n",
       "      <td>379.109453</td>\n",
       "      <td>357.943781</td>\n",
       "      <td>1101.823134</td>\n",
       "      <td>93.102564</td>\n",
       "      <td>139.442308</td>\n",
       "      <td>153.450000</td>\n",
       "      <td>110.467742</td>\n",
       "      <td>12.0</td>\n",
       "      <td>91.684504</td>\n",
       "      <td>...</td>\n",
       "      <td>12.0</td>\n",
       "      <td>12.0</td>\n",
       "      <td>10463.166667</td>\n",
       "      <td>409.000000</td>\n",
       "      <td>1.083333</td>\n",
       "      <td>0.0</td>\n",
       "      <td>0.0</td>\n",
       "      <td>0.0</td>\n",
       "      <td>40.831412</td>\n",
       "      <td>-73.886946</td>\n",
       "    </tr>\n",
       "    <tr>\n",
       "      <th>13</th>\n",
       "      <td>409.393800</td>\n",
       "      <td>424.127440</td>\n",
       "      <td>403.666361</td>\n",
       "      <td>1237.187600</td>\n",
       "      <td>232.931953</td>\n",
       "      <td>382.704142</td>\n",
       "      <td>320.773077</td>\n",
       "      <td>224.595533</td>\n",
       "      <td>13.0</td>\n",
       "      <td>218.306055</td>\n",
       "      <td>...</td>\n",
       "      <td>12.0</td>\n",
       "      <td>12.0</td>\n",
       "      <td>11207.153846</td>\n",
       "      <td>895.153846</td>\n",
       "      <td>2.076923</td>\n",
       "      <td>0.0</td>\n",
       "      <td>0.0</td>\n",
       "      <td>0.0</td>\n",
       "      <td>40.692865</td>\n",
       "      <td>-73.977016</td>\n",
       "    </tr>\n",
       "    <tr>\n",
       "      <th>14</th>\n",
       "      <td>395.937100</td>\n",
       "      <td>398.189765</td>\n",
       "      <td>385.333049</td>\n",
       "      <td>1179.459915</td>\n",
       "      <td>77.798077</td>\n",
       "      <td>114.873626</td>\n",
       "      <td>123.282143</td>\n",
       "      <td>112.347926</td>\n",
       "      <td>14.0</td>\n",
       "      <td>123.643728</td>\n",
       "      <td>...</td>\n",
       "      <td>12.0</td>\n",
       "      <td>12.0</td>\n",
       "      <td>11210.785714</td>\n",
       "      <td>545.357143</td>\n",
       "      <td>2.000000</td>\n",
       "      <td>0.0</td>\n",
       "      <td>0.0</td>\n",
       "      <td>0.0</td>\n",
       "      <td>40.711599</td>\n",
       "      <td>-73.948360</td>\n",
       "    </tr>\n",
       "    <tr>\n",
       "      <th>15</th>\n",
       "      <td>395.679934</td>\n",
       "      <td>404.628524</td>\n",
       "      <td>390.295854</td>\n",
       "      <td>1190.604312</td>\n",
       "      <td>94.574786</td>\n",
       "      <td>141.581197</td>\n",
       "      <td>153.450000</td>\n",
       "      <td>104.207885</td>\n",
       "      <td>15.0</td>\n",
       "      <td>135.707319</td>\n",
       "      <td>...</td>\n",
       "      <td>12.0</td>\n",
       "      <td>12.0</td>\n",
       "      <td>11214.222222</td>\n",
       "      <td>573.111111</td>\n",
       "      <td>1.666667</td>\n",
       "      <td>0.0</td>\n",
       "      <td>0.0</td>\n",
       "      <td>0.0</td>\n",
       "      <td>40.675972</td>\n",
       "      <td>-73.989255</td>\n",
       "    </tr>\n",
       "    <tr>\n",
       "      <th>16</th>\n",
       "      <td>371.529851</td>\n",
       "      <td>379.164179</td>\n",
       "      <td>369.415672</td>\n",
       "      <td>1120.109701</td>\n",
       "      <td>82.264423</td>\n",
       "      <td>126.519231</td>\n",
       "      <td>153.450000</td>\n",
       "      <td>247.185484</td>\n",
       "      <td>16.0</td>\n",
       "      <td>177.501282</td>\n",
       "      <td>...</td>\n",
       "      <td>12.0</td>\n",
       "      <td>12.0</td>\n",
       "      <td>11219.000000</td>\n",
       "      <td>440.250000</td>\n",
       "      <td>1.750000</td>\n",
       "      <td>0.0</td>\n",
       "      <td>0.0</td>\n",
       "      <td>0.0</td>\n",
       "      <td>40.688008</td>\n",
       "      <td>-73.929686</td>\n",
       "    </tr>\n",
       "    <tr>\n",
       "      <th>17</th>\n",
       "      <td>386.571429</td>\n",
       "      <td>394.071429</td>\n",
       "      <td>380.785714</td>\n",
       "      <td>1161.428571</td>\n",
       "      <td>105.583791</td>\n",
       "      <td>163.087912</td>\n",
       "      <td>111.360714</td>\n",
       "      <td>121.357143</td>\n",
       "      <td>17.0</td>\n",
       "      <td>130.246192</td>\n",
       "      <td>...</td>\n",
       "      <td>12.0</td>\n",
       "      <td>12.0</td>\n",
       "      <td>11220.642857</td>\n",
       "      <td>547.071429</td>\n",
       "      <td>1.642857</td>\n",
       "      <td>0.0</td>\n",
       "      <td>0.0</td>\n",
       "      <td>0.0</td>\n",
       "      <td>40.660313</td>\n",
       "      <td>-73.955636</td>\n",
       "    </tr>\n",
       "    <tr>\n",
       "      <th>18</th>\n",
       "      <td>373.454545</td>\n",
       "      <td>373.090909</td>\n",
       "      <td>371.454545</td>\n",
       "      <td>1118.000000</td>\n",
       "      <td>129.028846</td>\n",
       "      <td>197.038462</td>\n",
       "      <td>153.450000</td>\n",
       "      <td>72.771261</td>\n",
       "      <td>18.0</td>\n",
       "      <td>72.209438</td>\n",
       "      <td>...</td>\n",
       "      <td>12.0</td>\n",
       "      <td>12.0</td>\n",
       "      <td>11224.000000</td>\n",
       "      <td>344.000000</td>\n",
       "      <td>1.090909</td>\n",
       "      <td>0.0</td>\n",
       "      <td>0.0</td>\n",
       "      <td>0.0</td>\n",
       "      <td>40.641863</td>\n",
       "      <td>-73.914726</td>\n",
       "    </tr>\n",
       "    <tr>\n",
       "      <th>19</th>\n",
       "      <td>367.083333</td>\n",
       "      <td>377.583333</td>\n",
       "      <td>359.166667</td>\n",
       "      <td>1103.833333</td>\n",
       "      <td>88.097756</td>\n",
       "      <td>124.769231</td>\n",
       "      <td>120.670833</td>\n",
       "      <td>114.322581</td>\n",
       "      <td>19.0</td>\n",
       "      <td>105.752625</td>\n",
       "      <td>...</td>\n",
       "      <td>12.0</td>\n",
       "      <td>12.0</td>\n",
       "      <td>11207.500000</td>\n",
       "      <td>440.416667</td>\n",
       "      <td>1.916667</td>\n",
       "      <td>0.0</td>\n",
       "      <td>0.0</td>\n",
       "      <td>0.0</td>\n",
       "      <td>40.676547</td>\n",
       "      <td>-73.882158</td>\n",
       "    </tr>\n",
       "    <tr>\n",
       "      <th>20</th>\n",
       "      <td>406.223881</td>\n",
       "      <td>465.731343</td>\n",
       "      <td>401.732537</td>\n",
       "      <td>1273.687761</td>\n",
       "      <td>227.805769</td>\n",
       "      <td>359.407692</td>\n",
       "      <td>177.690000</td>\n",
       "      <td>591.374194</td>\n",
       "      <td>20.0</td>\n",
       "      <td>420.029766</td>\n",
       "      <td>...</td>\n",
       "      <td>12.0</td>\n",
       "      <td>12.0</td>\n",
       "      <td>11210.200000</td>\n",
       "      <td>2521.400000</td>\n",
       "      <td>3.800000</td>\n",
       "      <td>0.0</td>\n",
       "      <td>0.0</td>\n",
       "      <td>0.0</td>\n",
       "      <td>40.626751</td>\n",
       "      <td>-74.006191</td>\n",
       "    </tr>\n",
       "    <tr>\n",
       "      <th>21</th>\n",
       "      <td>395.283582</td>\n",
       "      <td>421.786974</td>\n",
       "      <td>389.242062</td>\n",
       "      <td>1206.312619</td>\n",
       "      <td>135.467657</td>\n",
       "      <td>203.835664</td>\n",
       "      <td>142.377273</td>\n",
       "      <td>275.351906</td>\n",
       "      <td>21.0</td>\n",
       "      <td>224.702989</td>\n",
       "      <td>...</td>\n",
       "      <td>12.0</td>\n",
       "      <td>12.0</td>\n",
       "      <td>11221.000000</td>\n",
       "      <td>1098.272727</td>\n",
       "      <td>3.272727</td>\n",
       "      <td>0.0</td>\n",
       "      <td>0.0</td>\n",
       "      <td>0.0</td>\n",
       "      <td>40.593596</td>\n",
       "      <td>-73.978465</td>\n",
       "    </tr>\n",
       "    <tr>\n",
       "      <th>22</th>\n",
       "      <td>473.500000</td>\n",
       "      <td>502.750000</td>\n",
       "      <td>474.250000</td>\n",
       "      <td>1450.500000</td>\n",
       "      <td>391.007212</td>\n",
       "      <td>614.509615</td>\n",
       "      <td>370.362500</td>\n",
       "      <td>580.250000</td>\n",
       "      <td>22.0</td>\n",
       "      <td>495.279369</td>\n",
       "      <td>...</td>\n",
       "      <td>12.0</td>\n",
       "      <td>12.0</td>\n",
       "      <td>11223.000000</td>\n",
       "      <td>2149.000000</td>\n",
       "      <td>2.250000</td>\n",
       "      <td>0.0</td>\n",
       "      <td>0.0</td>\n",
       "      <td>0.0</td>\n",
       "      <td>40.618285</td>\n",
       "      <td>-73.952288</td>\n",
       "    </tr>\n",
       "    <tr>\n",
       "      <th>23</th>\n",
       "      <td>380.666667</td>\n",
       "      <td>398.666667</td>\n",
       "      <td>378.000000</td>\n",
       "      <td>1157.333333</td>\n",
       "      <td>29.000000</td>\n",
       "      <td>31.000000</td>\n",
       "      <td>153.450000</td>\n",
       "      <td>87.000000</td>\n",
       "      <td>23.0</td>\n",
       "      <td>120.113095</td>\n",
       "      <td>...</td>\n",
       "      <td>12.0</td>\n",
       "      <td>12.0</td>\n",
       "      <td>11219.000000</td>\n",
       "      <td>391.000000</td>\n",
       "      <td>1.333333</td>\n",
       "      <td>0.0</td>\n",
       "      <td>0.0</td>\n",
       "      <td>0.0</td>\n",
       "      <td>40.668586</td>\n",
       "      <td>-73.912298</td>\n",
       "    </tr>\n",
       "    <tr>\n",
       "      <th>24</th>\n",
       "      <td>405.846154</td>\n",
       "      <td>434.000000</td>\n",
       "      <td>402.153846</td>\n",
       "      <td>1242.000000</td>\n",
       "      <td>126.474852</td>\n",
       "      <td>179.094675</td>\n",
       "      <td>115.165385</td>\n",
       "      <td>234.682382</td>\n",
       "      <td>24.0</td>\n",
       "      <td>213.471903</td>\n",
       "      <td>...</td>\n",
       "      <td>12.0</td>\n",
       "      <td>12.0</td>\n",
       "      <td>11206.153846</td>\n",
       "      <td>962.461538</td>\n",
       "      <td>2.230769</td>\n",
       "      <td>0.0</td>\n",
       "      <td>0.0</td>\n",
       "      <td>0.0</td>\n",
       "      <td>40.740621</td>\n",
       "      <td>-73.911518</td>\n",
       "    </tr>\n",
       "    <tr>\n",
       "      <th>25</th>\n",
       "      <td>437.250000</td>\n",
       "      <td>483.500000</td>\n",
       "      <td>436.250000</td>\n",
       "      <td>1357.000000</td>\n",
       "      <td>205.260817</td>\n",
       "      <td>279.889423</td>\n",
       "      <td>174.793750</td>\n",
       "      <td>268.733871</td>\n",
       "      <td>25.0</td>\n",
       "      <td>280.576007</td>\n",
       "      <td>...</td>\n",
       "      <td>12.0</td>\n",
       "      <td>12.0</td>\n",
       "      <td>11361.000000</td>\n",
       "      <td>1288.875000</td>\n",
       "      <td>1.875000</td>\n",
       "      <td>0.0</td>\n",
       "      <td>0.0</td>\n",
       "      <td>0.0</td>\n",
       "      <td>40.745414</td>\n",
       "      <td>-73.815558</td>\n",
       "    </tr>\n",
       "    <tr>\n",
       "      <th>26</th>\n",
       "      <td>445.200000</td>\n",
       "      <td>487.600000</td>\n",
       "      <td>444.800000</td>\n",
       "      <td>1377.600000</td>\n",
       "      <td>410.605769</td>\n",
       "      <td>632.407692</td>\n",
       "      <td>392.090000</td>\n",
       "      <td>825.600000</td>\n",
       "      <td>26.0</td>\n",
       "      <td>595.953216</td>\n",
       "      <td>...</td>\n",
       "      <td>12.0</td>\n",
       "      <td>12.0</td>\n",
       "      <td>11388.600000</td>\n",
       "      <td>2837.400000</td>\n",
       "      <td>4.600000</td>\n",
       "      <td>0.0</td>\n",
       "      <td>0.0</td>\n",
       "      <td>0.0</td>\n",
       "      <td>40.748507</td>\n",
       "      <td>-73.759176</td>\n",
       "    </tr>\n",
       "    <tr>\n",
       "      <th>27</th>\n",
       "      <td>407.800000</td>\n",
       "      <td>422.200000</td>\n",
       "      <td>394.300000</td>\n",
       "      <td>1224.300000</td>\n",
       "      <td>100.611538</td>\n",
       "      <td>145.315385</td>\n",
       "      <td>95.125000</td>\n",
       "      <td>288.961290</td>\n",
       "      <td>27.0</td>\n",
       "      <td>249.324536</td>\n",
       "      <td>...</td>\n",
       "      <td>12.0</td>\n",
       "      <td>12.0</td>\n",
       "      <td>11556.300000</td>\n",
       "      <td>1072.000000</td>\n",
       "      <td>2.500000</td>\n",
       "      <td>0.0</td>\n",
       "      <td>0.0</td>\n",
       "      <td>0.0</td>\n",
       "      <td>40.638828</td>\n",
       "      <td>-73.807823</td>\n",
       "    </tr>\n",
       "    <tr>\n",
       "      <th>28</th>\n",
       "      <td>445.941655</td>\n",
       "      <td>465.997286</td>\n",
       "      <td>435.908005</td>\n",
       "      <td>1347.846947</td>\n",
       "      <td>182.010490</td>\n",
       "      <td>273.559441</td>\n",
       "      <td>175.336364</td>\n",
       "      <td>351.214076</td>\n",
       "      <td>28.0</td>\n",
       "      <td>255.381164</td>\n",
       "      <td>...</td>\n",
       "      <td>12.0</td>\n",
       "      <td>12.0</td>\n",
       "      <td>11422.000000</td>\n",
       "      <td>1304.272727</td>\n",
       "      <td>2.545455</td>\n",
       "      <td>0.0</td>\n",
       "      <td>0.0</td>\n",
       "      <td>0.0</td>\n",
       "      <td>40.709344</td>\n",
       "      <td>-73.806367</td>\n",
       "    </tr>\n",
       "    <tr>\n",
       "      <th>29</th>\n",
       "      <td>395.764925</td>\n",
       "      <td>399.457090</td>\n",
       "      <td>386.707836</td>\n",
       "      <td>1181.929851</td>\n",
       "      <td>63.385817</td>\n",
       "      <td>96.514423</td>\n",
       "      <td>135.268750</td>\n",
       "      <td>98.108871</td>\n",
       "      <td>29.0</td>\n",
       "      <td>88.372155</td>\n",
       "      <td>...</td>\n",
       "      <td>12.0</td>\n",
       "      <td>12.0</td>\n",
       "      <td>11413.625000</td>\n",
       "      <td>474.125000</td>\n",
       "      <td>1.250000</td>\n",
       "      <td>0.0</td>\n",
       "      <td>0.0</td>\n",
       "      <td>0.0</td>\n",
       "      <td>40.685276</td>\n",
       "      <td>-73.752740</td>\n",
       "    </tr>\n",
       "    <tr>\n",
       "      <th>30</th>\n",
       "      <td>430.679934</td>\n",
       "      <td>465.961857</td>\n",
       "      <td>429.740299</td>\n",
       "      <td>1326.382090</td>\n",
       "      <td>157.231838</td>\n",
       "      <td>252.123932</td>\n",
       "      <td>115.150000</td>\n",
       "      <td>310.526882</td>\n",
       "      <td>30.0</td>\n",
       "      <td>251.803744</td>\n",
       "      <td>...</td>\n",
       "      <td>12.0</td>\n",
       "      <td>12.0</td>\n",
       "      <td>11103.000000</td>\n",
       "      <td>1123.333333</td>\n",
       "      <td>2.555556</td>\n",
       "      <td>0.0</td>\n",
       "      <td>0.0</td>\n",
       "      <td>0.0</td>\n",
       "      <td>40.755398</td>\n",
       "      <td>-73.932306</td>\n",
       "    </tr>\n",
       "    <tr>\n",
       "      <th>31</th>\n",
       "      <td>457.500000</td>\n",
       "      <td>472.500000</td>\n",
       "      <td>452.500000</td>\n",
       "      <td>1382.500000</td>\n",
       "      <td>228.908654</td>\n",
       "      <td>355.111538</td>\n",
       "      <td>194.435000</td>\n",
       "      <td>450.787097</td>\n",
       "      <td>31.0</td>\n",
       "      <td>380.528319</td>\n",
       "      <td>...</td>\n",
       "      <td>12.0</td>\n",
       "      <td>12.0</td>\n",
       "      <td>10307.100000</td>\n",
       "      <td>1847.500000</td>\n",
       "      <td>5.000000</td>\n",
       "      <td>0.0</td>\n",
       "      <td>0.0</td>\n",
       "      <td>0.0</td>\n",
       "      <td>40.595680</td>\n",
       "      <td>-74.125726</td>\n",
       "    </tr>\n",
       "    <tr>\n",
       "      <th>32</th>\n",
       "      <td>371.500000</td>\n",
       "      <td>385.833333</td>\n",
       "      <td>362.166667</td>\n",
       "      <td>1119.500000</td>\n",
       "      <td>70.342949</td>\n",
       "      <td>100.179487</td>\n",
       "      <td>83.558333</td>\n",
       "      <td>105.333333</td>\n",
       "      <td>32.0</td>\n",
       "      <td>100.525613</td>\n",
       "      <td>...</td>\n",
       "      <td>12.0</td>\n",
       "      <td>12.0</td>\n",
       "      <td>11231.666667</td>\n",
       "      <td>381.500000</td>\n",
       "      <td>1.000000</td>\n",
       "      <td>0.0</td>\n",
       "      <td>0.0</td>\n",
       "      <td>0.0</td>\n",
       "      <td>40.696295</td>\n",
       "      <td>-73.917124</td>\n",
       "    </tr>\n",
       "  </tbody>\n",
       "</table>\n",
       "<p>32 rows × 67 columns</p>\n",
       "</div>"
      ],
      "text/plain": [
       "             SAT Critical Reading Avg. Score  SAT Math Avg. Score  \\\n",
       "school_dist                                                         \n",
       "01                                441.833333           473.333333   \n",
       "02                                426.619092           444.186256   \n",
       "03                                428.529851           437.997512   \n",
       "04                                402.142857           416.285714   \n",
       "05                                427.159915           438.236674   \n",
       "06                                382.011940           400.565672   \n",
       "07                                376.461538           380.461538   \n",
       "08                                386.214383           395.542741   \n",
       "09                                373.755970           383.582836   \n",
       "10                                403.363636           418.000000   \n",
       "11                                389.866667           394.533333   \n",
       "12                                364.769900           379.109453   \n",
       "13                                409.393800           424.127440   \n",
       "14                                395.937100           398.189765   \n",
       "15                                395.679934           404.628524   \n",
       "16                                371.529851           379.164179   \n",
       "17                                386.571429           394.071429   \n",
       "18                                373.454545           373.090909   \n",
       "19                                367.083333           377.583333   \n",
       "20                                406.223881           465.731343   \n",
       "21                                395.283582           421.786974   \n",
       "22                                473.500000           502.750000   \n",
       "23                                380.666667           398.666667   \n",
       "24                                405.846154           434.000000   \n",
       "25                                437.250000           483.500000   \n",
       "26                                445.200000           487.600000   \n",
       "27                                407.800000           422.200000   \n",
       "28                                445.941655           465.997286   \n",
       "29                                395.764925           399.457090   \n",
       "30                                430.679934           465.961857   \n",
       "31                                457.500000           472.500000   \n",
       "32                                371.500000           385.833333   \n",
       "\n",
       "             SAT Writing Avg. Score    sat_score  AP Test Takers   \\\n",
       "school_dist                                                         \n",
       "01                       439.333333  1354.500000       116.681090   \n",
       "02                       424.832836  1295.638184       128.908454   \n",
       "03                       426.915672  1293.443035       156.183494   \n",
       "04                       405.714286  1224.142857       129.016484   \n",
       "05                       419.666098  1285.062687        85.722527   \n",
       "06                       382.066269  1164.643881       108.711538   \n",
       "07                       371.923077  1128.846154        73.703402   \n",
       "08                       377.908005  1159.665129       118.379371   \n",
       "09                       374.633134  1131.971940        71.411538   \n",
       "10                       400.863636  1222.227273       132.231206   \n",
       "11                       380.600000  1165.000000        83.813462   \n",
       "12                       357.943781  1101.823134        93.102564   \n",
       "13                       403.666361  1237.187600       232.931953   \n",
       "14                       385.333049  1179.459915        77.798077   \n",
       "15                       390.295854  1190.604312        94.574786   \n",
       "16                       369.415672  1120.109701        82.264423   \n",
       "17                       380.785714  1161.428571       105.583791   \n",
       "18                       371.454545  1118.000000       129.028846   \n",
       "19                       359.166667  1103.833333        88.097756   \n",
       "20                       401.732537  1273.687761       227.805769   \n",
       "21                       389.242062  1206.312619       135.467657   \n",
       "22                       474.250000  1450.500000       391.007212   \n",
       "23                       378.000000  1157.333333        29.000000   \n",
       "24                       402.153846  1242.000000       126.474852   \n",
       "25                       436.250000  1357.000000       205.260817   \n",
       "26                       444.800000  1377.600000       410.605769   \n",
       "27                       394.300000  1224.300000       100.611538   \n",
       "28                       435.908005  1347.846947       182.010490   \n",
       "29                       386.707836  1181.929851        63.385817   \n",
       "30                       429.740299  1326.382090       157.231838   \n",
       "31                       452.500000  1382.500000       228.908654   \n",
       "32                       362.166667  1119.500000        70.342949   \n",
       "\n",
       "             Total Exams Taken  Number of Exams with scores 3 4 or 5  \\\n",
       "school_dist                                                            \n",
       "01                  173.019231                            135.800000   \n",
       "02                  201.516827                            157.495833   \n",
       "03                  244.522436                            193.087500   \n",
       "04                  183.879121                            151.035714   \n",
       "05                  115.725275                            142.464286   \n",
       "06                  159.715385                            105.425000   \n",
       "07                  112.476331                            105.276923   \n",
       "08                  168.020979                            144.731818   \n",
       "09                  104.265385                             98.470000   \n",
       "10                  226.914336                            191.618182   \n",
       "11                  122.484615                            108.833333   \n",
       "12                  139.442308                            153.450000   \n",
       "13                  382.704142                            320.773077   \n",
       "14                  114.873626                            123.282143   \n",
       "15                  141.581197                            153.450000   \n",
       "16                  126.519231                            153.450000   \n",
       "17                  163.087912                            111.360714   \n",
       "18                  197.038462                            153.450000   \n",
       "19                  124.769231                            120.670833   \n",
       "20                  359.407692                            177.690000   \n",
       "21                  203.835664                            142.377273   \n",
       "22                  614.509615                            370.362500   \n",
       "23                   31.000000                            153.450000   \n",
       "24                  179.094675                            115.165385   \n",
       "25                  279.889423                            174.793750   \n",
       "26                  632.407692                            392.090000   \n",
       "27                  145.315385                             95.125000   \n",
       "28                  273.559441                            175.336364   \n",
       "29                   96.514423                            135.268750   \n",
       "30                  252.123932                            115.150000   \n",
       "31                  355.111538                            194.435000   \n",
       "32                  100.179487                             83.558333   \n",
       "\n",
       "             Total Cohort   CSD  NUMBER OF STUDENTS / SEATS FILLED    ...      \\\n",
       "school_dist                                                           ...       \n",
       "01              93.500000   1.0                         115.244241    ...       \n",
       "02             158.647849   2.0                         149.818949    ...       \n",
       "03             183.384409   3.0                         156.005994    ...       \n",
       "04             113.857143   4.0                         132.362265    ...       \n",
       "05             143.677419   5.0                         120.623901    ...       \n",
       "06             180.848387   6.0                         139.041709    ...       \n",
       "07             105.605459   7.0                          97.597416    ...       \n",
       "08             215.510264   8.0                         129.765099    ...       \n",
       "09             113.330645   9.0                         100.118588    ...       \n",
       "10             161.318182  10.0                         168.876526    ...       \n",
       "11             122.866667  11.0                         129.031031    ...       \n",
       "12             110.467742  12.0                          91.684504    ...       \n",
       "13             224.595533  13.0                         218.306055    ...       \n",
       "14             112.347926  14.0                         123.643728    ...       \n",
       "15             104.207885  15.0                         135.707319    ...       \n",
       "16             247.185484  16.0                         177.501282    ...       \n",
       "17             121.357143  17.0                         130.246192    ...       \n",
       "18              72.771261  18.0                          72.209438    ...       \n",
       "19             114.322581  19.0                         105.752625    ...       \n",
       "20             591.374194  20.0                         420.029766    ...       \n",
       "21             275.351906  21.0                         224.702989    ...       \n",
       "22             580.250000  22.0                         495.279369    ...       \n",
       "23              87.000000  23.0                         120.113095    ...       \n",
       "24             234.682382  24.0                         213.471903    ...       \n",
       "25             268.733871  25.0                         280.576007    ...       \n",
       "26             825.600000  26.0                         595.953216    ...       \n",
       "27             288.961290  27.0                         249.324536    ...       \n",
       "28             351.214076  28.0                         255.381164    ...       \n",
       "29              98.108871  29.0                          88.372155    ...       \n",
       "30             310.526882  30.0                         251.803744    ...       \n",
       "31             450.787097  31.0                         380.528319    ...       \n",
       "32             105.333333  32.0                         100.525613    ...       \n",
       "\n",
       "             grade_span_max  expgrade_span_max           zip  total_students  \\\n",
       "school_dist                                                                    \n",
       "01                     12.0               12.0  10003.166667      659.500000   \n",
       "02                     12.0               12.0  10023.770833      621.395833   \n",
       "03                     12.0               12.0  10023.750000      717.916667   \n",
       "04                     12.0               12.0  10029.857143      580.857143   \n",
       "05                     12.0               12.0  10030.142857      609.857143   \n",
       "06                     12.0               12.0  10036.200000      628.900000   \n",
       "07                     12.0               12.0  10452.692308      465.846154   \n",
       "08                     12.0               12.0  10467.000000      547.636364   \n",
       "09                     12.0               12.0  10456.100000      449.700000   \n",
       "10                     12.0               12.0  10463.181818      757.863636   \n",
       "11                     12.0               12.0  10467.933333      563.666667   \n",
       "12                     12.0               12.0  10463.166667      409.000000   \n",
       "13                     12.0               12.0  11207.153846      895.153846   \n",
       "14                     12.0               12.0  11210.785714      545.357143   \n",
       "15                     12.0               12.0  11214.222222      573.111111   \n",
       "16                     12.0               12.0  11219.000000      440.250000   \n",
       "17                     12.0               12.0  11220.642857      547.071429   \n",
       "18                     12.0               12.0  11224.000000      344.000000   \n",
       "19                     12.0               12.0  11207.500000      440.416667   \n",
       "20                     12.0               12.0  11210.200000     2521.400000   \n",
       "21                     12.0               12.0  11221.000000     1098.272727   \n",
       "22                     12.0               12.0  11223.000000     2149.000000   \n",
       "23                     12.0               12.0  11219.000000      391.000000   \n",
       "24                     12.0               12.0  11206.153846      962.461538   \n",
       "25                     12.0               12.0  11361.000000     1288.875000   \n",
       "26                     12.0               12.0  11388.600000     2837.400000   \n",
       "27                     12.0               12.0  11556.300000     1072.000000   \n",
       "28                     12.0               12.0  11422.000000     1304.272727   \n",
       "29                     12.0               12.0  11413.625000      474.125000   \n",
       "30                     12.0               12.0  11103.000000     1123.333333   \n",
       "31                     12.0               12.0  10307.100000     1847.500000   \n",
       "32                     12.0               12.0  11231.666667      381.500000   \n",
       "\n",
       "             number_programs  priority08  priority09  priority10        lat  \\\n",
       "school_dist                                                                   \n",
       "01                  1.333333         0.0         0.0         0.0  40.719022   \n",
       "02                  1.416667         0.0         0.0         0.0  40.739699   \n",
       "03                  2.000000         0.0         0.0         0.0  40.781574   \n",
       "04                  1.142857         0.0         0.0         0.0  40.793449   \n",
       "05                  1.142857         0.0         0.0         0.0  40.817077   \n",
       "06                  1.300000         0.0         0.0         0.0  40.848970   \n",
       "07                  1.461538         0.0         0.0         0.0  40.816815   \n",
       "08                  1.272727         0.0         0.0         0.0  40.823803   \n",
       "09                  1.150000         0.0         0.0         0.0  40.836349   \n",
       "10                  1.500000         0.0         0.0         0.0  40.870345   \n",
       "11                  1.533333         0.0         0.0         0.0  40.873138   \n",
       "12                  1.083333         0.0         0.0         0.0  40.831412   \n",
       "13                  2.076923         0.0         0.0         0.0  40.692865   \n",
       "14                  2.000000         0.0         0.0         0.0  40.711599   \n",
       "15                  1.666667         0.0         0.0         0.0  40.675972   \n",
       "16                  1.750000         0.0         0.0         0.0  40.688008   \n",
       "17                  1.642857         0.0         0.0         0.0  40.660313   \n",
       "18                  1.090909         0.0         0.0         0.0  40.641863   \n",
       "19                  1.916667         0.0         0.0         0.0  40.676547   \n",
       "20                  3.800000         0.0         0.0         0.0  40.626751   \n",
       "21                  3.272727         0.0         0.0         0.0  40.593596   \n",
       "22                  2.250000         0.0         0.0         0.0  40.618285   \n",
       "23                  1.333333         0.0         0.0         0.0  40.668586   \n",
       "24                  2.230769         0.0         0.0         0.0  40.740621   \n",
       "25                  1.875000         0.0         0.0         0.0  40.745414   \n",
       "26                  4.600000         0.0         0.0         0.0  40.748507   \n",
       "27                  2.500000         0.0         0.0         0.0  40.638828   \n",
       "28                  2.545455         0.0         0.0         0.0  40.709344   \n",
       "29                  1.250000         0.0         0.0         0.0  40.685276   \n",
       "30                  2.555556         0.0         0.0         0.0  40.755398   \n",
       "31                  5.000000         0.0         0.0         0.0  40.595680   \n",
       "32                  1.000000         0.0         0.0         0.0  40.696295   \n",
       "\n",
       "                   lon  \n",
       "school_dist             \n",
       "01          -73.982377  \n",
       "02          -73.991386  \n",
       "03          -73.977370  \n",
       "04          -73.943215  \n",
       "05          -73.949251  \n",
       "06          -73.932502  \n",
       "07          -73.919971  \n",
       "08          -73.866087  \n",
       "09          -73.906240  \n",
       "10          -73.898360  \n",
       "11          -73.856120  \n",
       "12          -73.886946  \n",
       "13          -73.977016  \n",
       "14          -73.948360  \n",
       "15          -73.989255  \n",
       "16          -73.929686  \n",
       "17          -73.955636  \n",
       "18          -73.914726  \n",
       "19          -73.882158  \n",
       "20          -74.006191  \n",
       "21          -73.978465  \n",
       "22          -73.952288  \n",
       "23          -73.912298  \n",
       "24          -73.911518  \n",
       "25          -73.815558  \n",
       "26          -73.759176  \n",
       "27          -73.807823  \n",
       "28          -73.806367  \n",
       "29          -73.752740  \n",
       "30          -73.932306  \n",
       "31          -74.125726  \n",
       "32          -73.917124  \n",
       "\n",
       "[32 rows x 67 columns]"
      ]
     },
     "execution_count": 13,
     "metadata": {},
     "output_type": "execute_result"
    }
   ],
   "source": [
    "districts = combined.groupby(\"school_dist\").agg(numpy.mean)\n",
    "districts"
   ]
  },
  {
   "cell_type": "code",
   "execution_count": 14,
   "metadata": {
    "collapsed": true
   },
   "outputs": [],
   "source": [
    "districts.reset_index(inplace=True)"
   ]
  },
  {
   "cell_type": "markdown",
   "metadata": {},
   "source": [
    "*** NYC BOROUGH MAP ***"
   ]
  },
  {
   "cell_type": "markdown",
   "metadata": {},
   "source": [
    "The image map of New York City below serves as a context for those not familiar with the geopgraphical distribution in New York city."
   ]
  },
  {
   "cell_type": "code",
   "execution_count": 15,
   "metadata": {
    "collapsed": false
   },
   "outputs": [
    {
     "data": {
      "text/html": [
       "<img src=\"https://yourfreetemplates.com/wp-content/uploads/2017/10/New_York_City_Borough_Map-e1507453244673.png\" />"
      ],
      "text/plain": [
       "<IPython.core.display.HTML object>"
      ]
     },
     "metadata": {},
     "output_type": "display_data"
    }
   ],
   "source": [
    "%%html\n",
    "<img src=\"https://yourfreetemplates.com/wp-content/uploads/2017/10/New_York_City_Borough_Map-e1507453244673.png\" />"
   ]
  },
  {
   "cell_type": "markdown",
   "metadata": {},
   "source": [
    "*** MAPPING SAFETY SCORES AND SAT SCORES FOR EACH BOROUGH ***"
   ]
  },
  {
   "cell_type": "markdown",
   "metadata": {},
   "source": [
    "The following maps will convert the sequence of numbers i.e the Safety Scores for the first map, and the SAT scores for the second map to values ranging from 0 to 1. It will then map these values onto a colormap. \n",
    "\n",
    "The color map being used is the \"summer colormap\", where;\n",
    "Yellow points = High\n",
    "Green points = Low \n",
    "\n",
    "Thus, boroughs with high safety scores will be represented with yellow points, and those with low safety scores will be represented with green points."
   ]
  },
  {
   "cell_type": "code",
   "execution_count": 16,
   "metadata": {
    "collapsed": false,
    "scrolled": true
   },
   "outputs": [
    {
     "data": {
      "image/png": "[encoded data removed]",
      "text/plain": [
       "<matplotlib.figure.Figure at 0x7f46712a9b00>"
      ]
     },
     "metadata": {},
     "output_type": "display_data"
    }
   ],
   "source": [
    "from mpl_toolkits.basemap import Basemap\n",
    "newyork_map = Basemap (\n",
    "    projection = \"merc\",\n",
    "    llcrnrlat=40.496044,\n",
    "    urcrnrlat=40.915256,\n",
    "    llcrnrlon=-74.255735, \n",
    "    urcrnrlon=-73.700272,\n",
    "    resolution = \"i\"\n",
    ")\n",
    "newyork_map.drawmapboundary(fill_color='#85A6D9')\n",
    "newyork_map.drawcoastlines(color='#6D5F47', linewidth=.4)\n",
    "newyork_map.drawrivers(color='#6D5F47', linewidth=.4)\n",
    "longitudes = districts[\"lon\"].tolist()\n",
    "latitudes = districts[\"lat\"].tolist()\n",
    "newyork_map.scatter(longitudes,latitudes, s=50, zorder=2,latlon=True, c=districts[\"saf_s_11\"], cmap=\"summer\")\n",
    "plt.show()"
   ]
  },
  {
   "cell_type": "markdown",
   "metadata": {},
   "source": [
    "Upper Manhattan, some parts of Bronx and Queens have high safety scores. Whereas, Brooklyn has a lot of low safety scores."
   ]
  },
  {
   "cell_type": "code",
   "execution_count": 17,
   "metadata": {
    "collapsed": false
   },
   "outputs": [
    {
     "data": {
      "image/png": "[encoded data removed]",
      "text/plain": [
       "<matplotlib.figure.Figure at 0x7f46712aa320>"
      ]
     },
     "metadata": {},
     "output_type": "display_data"
    }
   ],
   "source": [
    "from mpl_toolkits.basemap import Basemap\n",
    "newyork_map = Basemap (\n",
    "    projection = \"merc\",\n",
    "    llcrnrlat=40.496044,\n",
    "    urcrnrlat=40.915256,\n",
    "    llcrnrlon=-74.255735, \n",
    "    urcrnrlon=-73.700272,\n",
    "    resolution = \"i\"\n",
    ")\n",
    "newyork_map.drawmapboundary(fill_color='#85A6D9')\n",
    "newyork_map.drawcoastlines(color='#6D5F47', linewidth=.4)\n",
    "newyork_map.drawrivers(color='#6D5F47', linewidth=.4)\n",
    "longitudes = districts[\"lon\"].tolist()\n",
    "latitudes = districts[\"lat\"].tolist()\n",
    "newyork_map.scatter(longitudes,latitudes, s=50, zorder=2,latlon=True, c=districts[\"sat_score\"], cmap=\"summer\")\n",
    "plt.show()"
   ]
  },
  {
   "cell_type": "markdown",
   "metadata": {
    "collapsed": true
   },
   "source": [
    "Regarding the SAT scores, Brooklyn does indeed has a lot of low SAT Scores. Queens and Manhattan seem to have higher average SAT Scores. However, Bronx which had some high safety scores, does not do so for the SAT Scores. \n",
    "\n",
    "Thus, the Safety Scores assigned by students might not be a great correlation for the SAT Scores earned."
   ]
  },
  {
   "cell_type": "markdown",
   "metadata": {},
   "source": [
    "## Racial differences in SAT Scores"
   ]
  },
  {
   "cell_type": "markdown",
   "metadata": {},
   "source": [
    "This section focuses on plotting any correlation between the SAT Scores and racial demographic, to determine if racial difference has an influence in SAT performance"
   ]
  },
  {
   "cell_type": "code",
   "execution_count": 18,
   "metadata": {
    "collapsed": false
   },
   "outputs": [
    {
     "data": {
      "text/plain": [
       "<matplotlib.axes._subplots.AxesSubplot at 0x7f4670a341d0>"
      ]
     },
     "execution_count": 18,
     "metadata": {},
     "output_type": "execute_result"
    },
    {
     "data": {
      "image/png": "[encoded data removed]",
      "text/plain": [
       "<matplotlib.figure.Figure at 0x7f467131b198>"
      ]
     },
     "metadata": {},
     "output_type": "display_data"
    }
   ],
   "source": [
    "%matplotlib inline\n",
    "races = [\"white_per\",\"asian_per\", \"black_per\", \"hispanic_per\"]\n",
    "combined.corr()[\"sat_score\"][races].plot.bar()"
   ]
  },
  {
   "cell_type": "markdown",
   "metadata": {},
   "source": [
    "Based on the diagram above, there is a positive correlation between SAT Scores and students that are white or asian. Whereas, a high percentage of hispanic and black students score negatively correlates with the SAT Scores. "
   ]
  },
  {
   "cell_type": "code",
   "execution_count": 19,
   "metadata": {
    "collapsed": false
   },
   "outputs": [
    {
     "data": {
      "image/png": "[encoded data removed]",
      "text/plain": [
       "<matplotlib.figure.Figure at 0x7f4670a71fd0>"
      ]
     },
     "metadata": {},
     "output_type": "display_data"
    }
   ],
   "source": [
    "plt.scatter(x=combined[\"hispanic_per\"], y=combined[\"sat_score\"])\n",
    "plt.xlabel(\"Hispanic Students Percentage\")\n",
    "plt.ylabel(\"SAT Scores\")\n",
    "plt.show()"
   ]
  },
  {
   "cell_type": "markdown",
   "metadata": {},
   "source": [
    "The scatter plot above, has a weak linear relationship between the percentage of Hispanic students and the SAT Scores of the schools. Overall most of the schools did not have high SAT Scores. \n",
    "\n",
    "However, schools with lower percentage of hispanic students (between 0 to 20%), recoreded some very high SAT Scores, while the schools that had 100% hispanic students all had very low SAT Scores. The following are the list of those schools with 95% and above hispanic students."
   ]
  },
  {
   "cell_type": "code",
   "execution_count": 20,
   "metadata": {
    "collapsed": false
   },
   "outputs": [
    {
     "data": {
      "text/plain": [
       "44                         MANHATTAN BRIDGES HIGH SCHOOL\n",
       "82      WASHINGTON HEIGHTS EXPEDITIONARY LEARNING SCHOOL\n",
       "89     GREGORIO LUPERON HIGH SCHOOL FOR SCIENCE AND M...\n",
       "125                  ACADEMY FOR LANGUAGE AND TECHNOLOGY\n",
       "141                INTERNATIONAL SCHOOL FOR LIBERAL ARTS\n",
       "176     PAN AMERICAN INTERNATIONAL HIGH SCHOOL AT MONROE\n",
       "253                            MULTICULTURAL HIGH SCHOOL\n",
       "286               PAN AMERICAN INTERNATIONAL HIGH SCHOOL\n",
       "Name: SCHOOL NAME, dtype: object"
      ]
     },
     "execution_count": 20,
     "metadata": {},
     "output_type": "execute_result"
    }
   ],
   "source": [
    "hispanic_95schools = combined[combined[\"hispanic_per\"] > 95]\n",
    "hispanic_95schools[\"SCHOOL NAME\"]"
   ]
  },
  {
   "cell_type": "markdown",
   "metadata": {},
   "source": [
    "Upon conducting a research on these schools, the schools are geared towards recent immigrants to the United States. A lot of students studying in these schools are still intensively learning English, which could be a contributing factor to the lower SAT Scores."
   ]
  },
  {
   "cell_type": "code",
   "execution_count": 21,
   "metadata": {
    "collapsed": false
   },
   "outputs": [
    {
     "name": "stdout",
     "output_type": "stream",
     "text": [
      "37                                STUYVESANT HIGH SCHOOL\n",
      "151                         BRONX HIGH SCHOOL OF SCIENCE\n",
      "187                       BROOKLYN TECHNICAL HIGH SCHOOL\n",
      "327    QUEENS HIGH SCHOOL FOR THE SCIENCES AT YORK CO...\n",
      "356                  STATEN ISLAND TECHNICAL HIGH SCHOOL\n",
      "Name: SCHOOL NAME, dtype: object\n"
     ]
    }
   ],
   "source": [
    "print(combined[(combined[\"hispanic_per\"] < 10) & (combined[\"sat_score\"] > 1800)][\"SCHOOL NAME\"])"
   ]
  },
  {
   "cell_type": "markdown",
   "metadata": {},
   "source": [
    "Inversely, a research conducted on the schools with low percentage of hispanic students but high SAT Scores appears to be specialized in science and technology, have strict entrance procedures and recieve sufficient funding. "
   ]
  },
  {
   "cell_type": "markdown",
   "metadata": {},
   "source": [
    "## Gender differences in SAT Scores"
   ]
  },
  {
   "cell_type": "code",
   "execution_count": 22,
   "metadata": {
    "collapsed": false
   },
   "outputs": [
    {
     "data": {
      "text/plain": [
       "<matplotlib.axes._subplots.AxesSubplot at 0x7f4670aa1d30>"
      ]
     },
     "execution_count": 22,
     "metadata": {},
     "output_type": "execute_result"
    },
    {
     "data": {
      "image/png": "[encoded data removed]",
      "text/plain": [
       "<matplotlib.figure.Figure at 0x7f466f15a710>"
      ]
     },
     "metadata": {},
     "output_type": "display_data"
    }
   ],
   "source": [
    "%matplotlib inline\n",
    "gender_per = [\"male_per\", \"female_per\"]\n",
    "combined.corr()[\"sat_score\"][gender_per].plot.bar()"
   ]
  },
  {
   "cell_type": "markdown",
   "metadata": {},
   "source": [
    "The bar plot above indicates that a positive correlation between the percentage of females and the SAT Scores, and a negative correlation between the percentage of males and SAT Scores. However, the correlations rane between 0.00 to ( + 0.15 and -\n",
    "0.15), making them weak."
   ]
  },
  {
   "cell_type": "code",
   "execution_count": 23,
   "metadata": {
    "collapsed": false
   },
   "outputs": [
    {
     "data": {
      "image/png": "[encoded data removed]",
      "text/plain": [
       "<matplotlib.figure.Figure at 0x7f466f133a58>"
      ]
     },
     "metadata": {},
     "output_type": "display_data"
    }
   ],
   "source": [
    "plt.scatter(x=combined[\"female_per\"], y=combined[\"sat_score\"])\n",
    "plt.xlabel(\"Female Percentage\")\n",
    "plt.ylabel(\"SAT Scores\")\n",
    "plt.show()"
   ]
  },
  {
   "cell_type": "markdown",
   "metadata": {},
   "source": [
    "The scatter plot above does indeed proves that there is no real correlation between the percentage of females in a school and their SAT Performance. However, a cluster of schools with 40% to 60% of females have high SAT Scores ranging from 1800 - 2200.\n",
    "\n",
    "The schools that match this threshold are listed below."
   ]
  },
  {
   "cell_type": "code",
   "execution_count": 24,
   "metadata": {
    "collapsed": false
   },
   "outputs": [
    {
     "name": "stdout",
     "output_type": "stream",
     "text": [
      "5                         BARD HIGH SCHOOL EARLY COLLEGE\n",
      "26                         ELEANOR ROOSEVELT HIGH SCHOOL\n",
      "60                                    BEACON HIGH SCHOOL\n",
      "61     FIORELLO H. LAGUARDIA HIGH SCHOOL OF MUSIC & A...\n",
      "302                          TOWNSEND HARRIS HIGH SCHOOL\n",
      "Name: SCHOOL NAME, dtype: object\n"
     ]
    }
   ],
   "source": [
    "print(combined[(combined[\"female_per\"] > 60) & (combined[\"sat_score\"] > 1700)][\"SCHOOL NAME\"])"
   ]
  },
  {
   "cell_type": "markdown",
   "metadata": {
    "collapsed": true
   },
   "source": [
    "A quick research on these schools indicated that they are highly selective schools with high academic standards. This could indicate that having a large female population does not serve as the reason for their high average SAT scores, rather due their standards of admitting bright students in the first place, while placing them on rigorous on a rigorous curicullum. "
   ]
  },
  {
   "cell_type": "markdown",
   "metadata": {},
   "source": [
    "## AP Scores and SAT Scores."
   ]
  },
  {
   "cell_type": "code",
   "execution_count": 25,
   "metadata": {
    "collapsed": false
   },
   "outputs": [
    {
     "data": {
      "text/plain": [
       "AP Test Takers     0.52314\n",
       "Name: sat_score, dtype: float64"
      ]
     },
     "execution_count": 25,
     "metadata": {},
     "output_type": "execute_result"
    }
   ],
   "source": [
    "correlations = combined.corr()\n",
    "correlations = correlations[\"sat_score\"]\n",
    "correlations.iloc[[4]]"
   ]
  },
  {
   "cell_type": "markdown",
   "metadata": {},
   "source": [
    "AP exams are Advanced Placement exams that gives students the opportunity to earn college credit for numerous subjects. Typically students take AP classes then sit for the exams. The advantage of taking an AP is that it prepares students for college work, boosts their college application an earns them credir. However, schools in rural areas are less likely to offer AP courses.\n",
    "\n",
    "The above code indicates that the correlation between sat_score with the students that took an AP test is 0.5, which is a relatively high correlation. \n",
    "\n",
    "This section focuses on looking at the percentage of students enrolled that took at least one AP exam and their SAT Score, to verify if AP exams really does make a difference."
   ]
  },
  {
   "cell_type": "code",
   "execution_count": 26,
   "metadata": {
    "collapsed": false
   },
   "outputs": [],
   "source": [
    "combined[\"ap_per\"] = combined[\"AP Test Takers \"] / combined[\"total_enrollment\"]"
   ]
  },
  {
   "cell_type": "code",
   "execution_count": 27,
   "metadata": {
    "collapsed": false
   },
   "outputs": [
    {
     "data": {
      "image/png": "[encoded data removed]",
      "text/plain": [
       "<matplotlib.figure.Figure at 0x7f4670b62dd8>"
      ]
     },
     "metadata": {},
     "output_type": "display_data"
    }
   ],
   "source": [
    "plt.scatter(x=combined[\"ap_per\"], y=combined[\"sat_score\"])\n",
    "plt.xlabel(\"Percentage of AP Test Takers in a School\")\n",
    "plt.ylabel(\"SAT Scores\")\n",
    "plt.show()"
   ]
  },
  {
   "cell_type": "markdown",
   "metadata": {},
   "source": [
    "A correlation definitely exists between AP test takers and the SAT score, however the correlation is not very strong. \n",
    "\n",
    "As seen above, schools that had above 80% of students taking at least one AP course performed relatively the same with schools that had less than 20% of their students taking an AP course. Similarly none of the schools with the above 80% AP Test takers performed high in their SAT exams.\n",
    "\n",
    "This could mean that the feature that may determine if AP test has an effect on SAT, is the AP score of the students."
   ]
  },
  {
   "cell_type": "markdown",
   "metadata": {},
   "source": [
    "## Conclusion and Further Analysis"
   ]
  },
  {
   "cell_type": "markdown",
   "metadata": {},
   "source": [
    "To summarize the insights gained during the analysis of High School Data of New York Schools:\n",
    "\n",
    "* Students assigned safety perception of a school has not much influence in their performance in the SAT. We could not determine if the safety of the NYC boroughs says something regaring the SAT Scores, this is due how broad such an analysis is\n",
    "\n",
    "* Schools with a high percentage of Hispanic and Black students performed lower in the SAT exams in comparison to schools with high percentage of White and Asian students whom performed higher, however as our analysis indicates the schools with large number of Hispanic students but low SAT scores, were schools geared towards recent immigrants with a focus on learning language.\n",
    "\n",
    "* Gender has no influence in the SAT Scores.\n",
    "\n",
    "*** FURTHER ANALYSIS ***\n",
    "\n",
    "The following conclusions are far from being accurate as there are many missing nuances which leaves room for further analysis. Based on the insights above, potential questions and hypothesis raised includes;\n",
    "\n",
    "1. Figuring out which neighborhoods have the best schools and highest SAT Scores, and correlating those neighborhoods with a dataset containing property values to conclude how the SAT scores of schools in expensive neighborhoods differ from their counterpart. And also to find the least expensive neighborhoods that have good schools.\n",
    "\n",
    "2. Finding correlation between class size and SAT Scores.\n",
    "\n",
    "3. Determinng if there is a correlation between AP Scores and SAT Scores.\n",
    "\n",
    "4. Recording the differences between parent, teacher and students responses to surveys to realize any differences in perception. \n",
    "\n",
    "5. Ranking schools based on their SAT Scores and college destination of their students.\n",
    "\n"
   ]
  },
  {
   "cell_type": "markdown",
   "metadata": {},
   "source": [
    "&copy; Khadija Lawal, 2020"
   ]
  },
  {
   "cell_type": "code",
   "execution_count": null,
   "metadata": {
    "collapsed": true
   },
   "outputs": [],
   "source": []
  }
 ],
 "metadata": {
  "kernelspec": {
   "display_name": "Python 3",
   "language": "python",
   "name": "python3"
  },
  "language_info": {
   "codemirror_mode": {
    "name": "ipython",
    "version": 3
   },
   "file_extension": ".py",
   "mimetype": "text/x-python",
   "name": "python",
   "nbconvert_exporter": "python",
   "pygments_lexer": "ipython3",
   "version": "3.4.3"
  }
 },
 "nbformat": 4,
 "nbformat_minor": 2
}
